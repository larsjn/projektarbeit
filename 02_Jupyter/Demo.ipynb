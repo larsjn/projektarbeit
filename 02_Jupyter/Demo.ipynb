{
 "cells": [
  {
   "cell_type": "code",
   "execution_count": 1,
   "metadata": {
    "collapsed": false
   },
   "outputs": [
    {
     "ename": "IndentationError",
     "evalue": "unexpected indent (create_function_widgets.py, line 989)",
     "output_type": "error",
     "traceback": [
      "\u001b[0;36m  File \u001b[0;32m\"C:\\Users\\SLehm\\Documents\\GitHub\\projektarbeit\\02_Jupyter\\lib\\create_function_widgets.py\"\u001b[0;36m, line \u001b[0;32m989\u001b[0m\n\u001b[0;31m    print(('Hinweis: Leider ist es relativ kompliziert auch \"Punkt vor Strich\" zu beachten.'\u001b[0m\n\u001b[0m    ^\u001b[0m\n\u001b[0;31mIndentationError\u001b[0m\u001b[0;31m:\u001b[0m unexpected indent\n"
     ]
    }
   ],
   "source": [
    "import lib.signalgen as sig\n",
    "import matplotlib.pyplot as plt\n",
    "import lib.signalgen as sig"
   ]
  },
  {
   "cell_type": "markdown",
   "metadata": {},
   "source": [
    "# Beispiel kontinuierliches Signale"
   ]
  },
  {
   "cell_type": "code",
   "execution_count": 33,
   "metadata": {
    "collapsed": false
   },
   "outputs": [
    {
     "name": "stdout",
     "output_type": "stream",
     "text": [
      "('Hinweis: Leider ist es relativ kompliziert auch \"Punkt vor Strich\" zu beachten.', 'Daher einfach Punktrechnungen in Klammern setzen')\n",
      "('Hinweis: Leider ist es relativ kompliziert auch \"Punkt vor Strich\" zu beachten.', 'Daher einfach Punktrechnungen in Klammern setzen')\n"
     ]
    }
   ],
   "source": [
    "con_sig_1= sig.create(\"continuous\")"
   ]
  },
  {
   "cell_type": "code",
   "execution_count": 30,
   "metadata": {
    "collapsed": false
   },
   "outputs": [
    {
     "ename": "AttributeError",
     "evalue": "'list' object has no attribute 'tolist'",
     "output_type": "error",
     "traceback": [
      "\u001b[0;31m---------------------------------------------------------------------------\u001b[0m",
      "\u001b[0;31mAttributeError\u001b[0m                            Traceback (most recent call last)",
      "\u001b[0;32m<ipython-input-30-914f6f45a6db>\u001b[0m in \u001b[0;36m<module>\u001b[0;34m()\u001b[0m\n\u001b[0;32m----> 1\u001b[0;31m \u001b[0mcon_sig_1\u001b[0m\u001b[1;33m.\u001b[0m\u001b[0mgetYAt\u001b[0m\u001b[1;33m(\u001b[0m\u001b[1;33m-\u001b[0m\u001b[1;36m5\u001b[0m\u001b[1;33m)\u001b[0m\u001b[1;33m\u001b[0m\u001b[0m\n\u001b[0m",
      "\u001b[0;32mC:\\Users\\SLehm\\Documents\\GitHub\\projektarbeit\\02_Jupyter\\lib\\signalgen.py\u001b[0m in \u001b[0;36mgetYAt\u001b[0;34m(self, Ax)\u001b[0m\n\u001b[1;32m     79\u001b[0m     \u001b[1;32mdef\u001b[0m \u001b[0mgetYAt\u001b[0m\u001b[1;33m(\u001b[0m\u001b[0mself\u001b[0m\u001b[1;33m,\u001b[0m\u001b[0mAx\u001b[0m\u001b[1;33m)\u001b[0m\u001b[1;33m:\u001b[0m\u001b[1;33m\u001b[0m\u001b[0m\n\u001b[1;32m     80\u001b[0m         \u001b[1;32mtry\u001b[0m\u001b[1;33m:\u001b[0m\u001b[1;33m\u001b[0m\u001b[0m\n\u001b[0;32m---> 81\u001b[0;31m             \u001b[0mxList\u001b[0m \u001b[1;33m=\u001b[0m \u001b[0mself\u001b[0m\u001b[1;33m.\u001b[0m\u001b[0mfunction\u001b[0m\u001b[1;33m.\u001b[0m\u001b[0mFxWerte\u001b[0m\u001b[1;33m.\u001b[0m\u001b[0mtolist\u001b[0m\u001b[1;33m(\u001b[0m\u001b[1;33m)\u001b[0m\u001b[1;33m\u001b[0m\u001b[0m\n\u001b[0m\u001b[1;32m     82\u001b[0m             \u001b[0mi\u001b[0m \u001b[1;33m=\u001b[0m \u001b[0mxList\u001b[0m\u001b[1;33m.\u001b[0m\u001b[0mindex\u001b[0m\u001b[1;33m(\u001b[0m\u001b[0mAx\u001b[0m\u001b[1;33m)\u001b[0m\u001b[1;33m\u001b[0m\u001b[0m\n\u001b[1;32m     83\u001b[0m             \u001b[0myList\u001b[0m \u001b[1;33m=\u001b[0m \u001b[0mself\u001b[0m\u001b[1;33m.\u001b[0m\u001b[0mfunction\u001b[0m\u001b[1;33m.\u001b[0m\u001b[0mFyWerte\u001b[0m\u001b[1;33m.\u001b[0m\u001b[0mtolist\u001b[0m\u001b[1;33m(\u001b[0m\u001b[1;33m)\u001b[0m\u001b[1;33m\u001b[0m\u001b[0m\n",
      "\u001b[0;31mAttributeError\u001b[0m: 'list' object has no attribute 'tolist'"
     ]
    }
   ],
   "source": [
    "con_sig_1.getYAt(-5)"
   ]
  },
  {
   "cell_type": "markdown",
   "metadata": {},
   "source": [
    "# Beispiel diskretes Signale"
   ]
  },
  {
   "cell_type": "code",
   "execution_count": 31,
   "metadata": {
    "collapsed": false
   },
   "outputs": [
    {
     "name": "stdout",
     "output_type": "stream",
     "text": [
      "('Hinweis: Leider ist es relativ kompliziert auch \"Punkt vor Strich\" zu beachten.', 'Daher einfach Punktrechnungen in Klammern setzen')\n",
      "('Hinweis: Leider ist es relativ kompliziert auch \"Punkt vor Strich\" zu beachten.', 'Daher einfach Punktrechnungen in Klammern setzen')\n",
      "('Hinweis: Leider ist es relativ kompliziert auch \"Punkt vor Strich\" zu beachten.', 'Daher einfach Punktrechnungen in Klammern setzen')\n"
     ]
    }
   ],
   "source": [
    "dis_sig_1= sig.create(\"discrete\")"
   ]
  },
  {
   "cell_type": "code",
   "execution_count": 24,
   "metadata": {
    "collapsed": false
   },
   "outputs": [
    {
     "data": {
      "text/plain": [
       "[-10.0,\n",
       " -9.9,\n",
       " -9.8,\n",
       " -9.700000000000001,\n",
       " -9.600000000000001,\n",
       " -9.500000000000002,\n",
       " -9.400000000000002,\n",
       " -9.300000000000002,\n",
       " -9.200000000000003,\n",
       " -9.100000000000003,\n",
       " -9.000000000000004,\n",
       " -8.900000000000004,\n",
       " -8.800000000000004,\n",
       " -8.700000000000005,\n",
       " -8.600000000000005,\n",
       " -8.500000000000005,\n",
       " -8.400000000000006,\n",
       " -8.300000000000006,\n",
       " -8.200000000000006,\n",
       " -8.100000000000007,\n",
       " -8.000000000000007,\n",
       " -7.9000000000000075,\n",
       " -7.800000000000008,\n",
       " -7.700000000000008,\n",
       " -7.6000000000000085,\n",
       " -7.500000000000009,\n",
       " -7.400000000000009,\n",
       " -7.30000000000001,\n",
       " -7.20000000000001,\n",
       " -7.10000000000001,\n",
       " -7.000000000000011,\n",
       " -6.900000000000011,\n",
       " -6.800000000000011,\n",
       " -6.700000000000012,\n",
       " -6.600000000000012,\n",
       " -6.500000000000012,\n",
       " -6.400000000000013,\n",
       " -6.300000000000013,\n",
       " -6.2000000000000135,\n",
       " -6.100000000000014,\n",
       " -6.000000000000014,\n",
       " -5.900000000000015,\n",
       " -5.800000000000015,\n",
       " -5.700000000000015,\n",
       " -5.600000000000016,\n",
       " -5.500000000000016,\n",
       " -5.400000000000016,\n",
       " -5.300000000000017,\n",
       " -5.200000000000017,\n",
       " -5.100000000000017,\n",
       " -5.000000000000018,\n",
       " -4.900000000000018,\n",
       " -4.8000000000000185,\n",
       " -4.700000000000019,\n",
       " -4.600000000000019,\n",
       " -4.5000000000000195,\n",
       " -4.40000000000002,\n",
       " -4.30000000000002,\n",
       " -4.200000000000021,\n",
       " -4.100000000000021,\n",
       " -4.000000000000021,\n",
       " -3.9000000000000217,\n",
       " -3.800000000000022,\n",
       " -3.7000000000000224,\n",
       " -3.6000000000000227,\n",
       " -3.500000000000023,\n",
       " -3.4000000000000234,\n",
       " -3.300000000000024,\n",
       " -3.200000000000024,\n",
       " -3.1000000000000245,\n",
       " -3.000000000000025,\n",
       " -2.9000000000000252,\n",
       " -2.8000000000000256,\n",
       " -2.700000000000026,\n",
       " -2.6000000000000263,\n",
       " -2.5000000000000266,\n",
       " -2.400000000000027,\n",
       " -2.3000000000000274,\n",
       " -2.2000000000000277,\n",
       " -2.100000000000028,\n",
       " -2.0000000000000284,\n",
       " -1.9000000000000288,\n",
       " -1.8000000000000291,\n",
       " -1.7000000000000295,\n",
       " -1.6000000000000298,\n",
       " -1.5000000000000302,\n",
       " -1.4000000000000306,\n",
       " -1.300000000000031,\n",
       " -1.2000000000000313,\n",
       " -1.1000000000000316,\n",
       " -1.000000000000032,\n",
       " -0.9000000000000323,\n",
       " -0.8000000000000327,\n",
       " -0.700000000000033,\n",
       " -0.6000000000000334,\n",
       " -0.5000000000000338,\n",
       " -0.4000000000000341,\n",
       " -0.30000000000003446,\n",
       " -0.20000000000003482,\n",
       " -0.10000000000003517,\n",
       " -3.552713678800501e-14,\n",
       " 0.09999999999996412,\n",
       " 0.19999999999996376,\n",
       " 0.2999999999999634,\n",
       " 0.39999999999996305,\n",
       " 0.4999999999999627,\n",
       " 0.5999999999999623,\n",
       " 0.699999999999962,\n",
       " 0.7999999999999616,\n",
       " 0.8999999999999613,\n",
       " 0.9999999999999609,\n",
       " 1.0999999999999606,\n",
       " 1.1999999999999602,\n",
       " 1.2999999999999599,\n",
       " 1.3999999999999595,\n",
       " 1.4999999999999591,\n",
       " 1.5999999999999588,\n",
       " 1.6999999999999584,\n",
       " 1.799999999999958,\n",
       " 1.8999999999999577,\n",
       " 1.9999999999999574,\n",
       " 2.099999999999957,\n",
       " 2.1999999999999567,\n",
       " 2.2999999999999563,\n",
       " 2.399999999999956,\n",
       " 2.4999999999999556,\n",
       " 2.5999999999999552,\n",
       " 2.699999999999955,\n",
       " 2.7999999999999545,\n",
       " 2.899999999999954,\n",
       " 2.999999999999954,\n",
       " 3.0999999999999535,\n",
       " 3.199999999999953,\n",
       " 3.2999999999999527,\n",
       " 3.3999999999999524,\n",
       " 3.499999999999952,\n",
       " 3.5999999999999517,\n",
       " 3.6999999999999513,\n",
       " 3.799999999999951,\n",
       " 3.8999999999999506,\n",
       " 3.9999999999999503,\n",
       " 4.09999999999995,\n",
       " 4.1999999999999496,\n",
       " 4.299999999999949,\n",
       " 4.399999999999949,\n",
       " 4.4999999999999485,\n",
       " 4.599999999999948,\n",
       " 4.699999999999948,\n",
       " 4.799999999999947,\n",
       " 4.899999999999947,\n",
       " 4.999999999999947,\n",
       " 5.099999999999946,\n",
       " 5.199999999999946,\n",
       " 5.299999999999946,\n",
       " 5.399999999999945,\n",
       " 5.499999999999945,\n",
       " 5.599999999999945,\n",
       " 5.699999999999944,\n",
       " 5.799999999999944,\n",
       " 5.8999999999999435,\n",
       " 5.999999999999943,\n",
       " 6.099999999999945,\n",
       " 6.1999999999999424,\n",
       " 6.29999999999994,\n",
       " 6.399999999999942,\n",
       " 6.499999999999943,\n",
       " 6.599999999999941,\n",
       " 6.699999999999939,\n",
       " 6.79999999999994,\n",
       " 6.899999999999942,\n",
       " 6.99999999999994,\n",
       " 7.0999999999999375,\n",
       " 7.199999999999939,\n",
       " 7.29999999999994,\n",
       " 7.399999999999938,\n",
       " 7.499999999999936,\n",
       " 7.5999999999999375,\n",
       " 7.699999999999939,\n",
       " 7.799999999999937,\n",
       " 7.899999999999935,\n",
       " 7.999999999999936,\n",
       " 8.099999999999937,\n",
       " 8.199999999999935,\n",
       " 8.299999999999933,\n",
       " 8.399999999999935,\n",
       " 8.499999999999936,\n",
       " 8.599999999999934,\n",
       " 8.699999999999932,\n",
       " 8.799999999999933,\n",
       " 8.899999999999935,\n",
       " 8.999999999999932,\n",
       " 9.09999999999993,\n",
       " 9.199999999999932,\n",
       " 9.299999999999933,\n",
       " 9.399999999999931,\n",
       " 9.499999999999929,\n",
       " 9.59999999999993,\n",
       " 9.699999999999932,\n",
       " 9.79999999999993,\n",
       " 9.899999999999928,\n",
       " 9.999999999999929]"
      ]
     },
     "execution_count": 24,
     "metadata": {},
     "output_type": "execute_result"
    }
   ],
   "source": [
    "dis_sig_1.getXList()"
   ]
  },
  {
   "cell_type": "code",
   "execution_count": 25,
   "metadata": {
    "collapsed": false
   },
   "outputs": [
    {
     "ename": "AttributeError",
     "evalue": "'list' object has no attribute 'tolist'",
     "output_type": "error",
     "traceback": [
      "\u001b[0;31m---------------------------------------------------------------------------\u001b[0m",
      "\u001b[0;31mAttributeError\u001b[0m                            Traceback (most recent call last)",
      "\u001b[0;32m<ipython-input-25-5b93806f0f7d>\u001b[0m in \u001b[0;36m<module>\u001b[0;34m()\u001b[0m\n\u001b[0;32m----> 1\u001b[0;31m \u001b[0mprint\u001b[0m\u001b[1;33m(\u001b[0m\u001b[0mdis_sig_1\u001b[0m\u001b[1;33m.\u001b[0m\u001b[0mgetYAt\u001b[0m\u001b[1;33m(\u001b[0m\u001b[1;33m-\u001b[0m\u001b[1;36m10\u001b[0m\u001b[1;33m)\u001b[0m\u001b[1;33m)\u001b[0m\u001b[1;33m\u001b[0m\u001b[0m\n\u001b[0m",
      "\u001b[0;32mC:\\Users\\SLehm\\Documents\\GitHub\\projektarbeit\\02_Jupyter\\lib\\signalgen.py\u001b[0m in \u001b[0;36mgetYAt\u001b[0;34m(self, Ax)\u001b[0m\n\u001b[1;32m     81\u001b[0m             \u001b[0mxList\u001b[0m \u001b[1;33m=\u001b[0m \u001b[0mself\u001b[0m\u001b[1;33m.\u001b[0m\u001b[0mfunction\u001b[0m\u001b[1;33m.\u001b[0m\u001b[0mFxWerte\u001b[0m\u001b[1;33m.\u001b[0m\u001b[0mtolist\u001b[0m\u001b[1;33m(\u001b[0m\u001b[1;33m)\u001b[0m\u001b[1;33m\u001b[0m\u001b[0m\n\u001b[1;32m     82\u001b[0m             \u001b[0mi\u001b[0m \u001b[1;33m=\u001b[0m \u001b[0mxList\u001b[0m\u001b[1;33m.\u001b[0m\u001b[0mindex\u001b[0m\u001b[1;33m(\u001b[0m\u001b[0mAx\u001b[0m\u001b[1;33m)\u001b[0m\u001b[1;33m\u001b[0m\u001b[0m\n\u001b[0;32m---> 83\u001b[0;31m             \u001b[0myList\u001b[0m \u001b[1;33m=\u001b[0m \u001b[0mself\u001b[0m\u001b[1;33m.\u001b[0m\u001b[0mfunction\u001b[0m\u001b[1;33m.\u001b[0m\u001b[0mFyWerte\u001b[0m\u001b[1;33m.\u001b[0m\u001b[0mtolist\u001b[0m\u001b[1;33m(\u001b[0m\u001b[1;33m)\u001b[0m\u001b[1;33m\u001b[0m\u001b[0m\n\u001b[0m\u001b[1;32m     84\u001b[0m             \u001b[0mout\u001b[0m \u001b[1;33m=\u001b[0m \u001b[0myList\u001b[0m\u001b[1;33m[\u001b[0m\u001b[0mi\u001b[0m\u001b[1;33m]\u001b[0m\u001b[1;33m\u001b[0m\u001b[0m\n\u001b[1;32m     85\u001b[0m         \u001b[1;32mexcept\u001b[0m \u001b[0mValueError\u001b[0m\u001b[1;33m:\u001b[0m\u001b[1;33m\u001b[0m\u001b[0m\n",
      "\u001b[0;31mAttributeError\u001b[0m: 'list' object has no attribute 'tolist'"
     ]
    }
   ],
   "source": [
    "print(dis_sig_1.getYAt(-10))"
   ]
  },
  {
   "cell_type": "code",
   "execution_count": 28,
   "metadata": {
    "collapsed": false
   },
   "outputs": [
    {
     "ename": "AttributeError",
     "evalue": "'list' object has no attribute 'tolist'",
     "output_type": "error",
     "traceback": [
      "\u001b[0;31m---------------------------------------------------------------------------\u001b[0m",
      "\u001b[0;31mAttributeError\u001b[0m                            Traceback (most recent call last)",
      "\u001b[0;32m<ipython-input-28-cec374bc2557>\u001b[0m in \u001b[0;36m<module>\u001b[0;34m()\u001b[0m\n\u001b[0;32m----> 1\u001b[0;31m \u001b[0mdis_sig_1\u001b[0m\u001b[1;33m.\u001b[0m\u001b[0mgetYAt\u001b[0m\u001b[1;33m(\u001b[0m\u001b[1;33m-\u001b[0m\u001b[1;36m10\u001b[0m\u001b[1;33m)\u001b[0m\u001b[1;33m\u001b[0m\u001b[0m\n\u001b[0m",
      "\u001b[0;32mC:\\Users\\SLehm\\Documents\\GitHub\\projektarbeit\\02_Jupyter\\lib\\signalgen.py\u001b[0m in \u001b[0;36mgetYAt\u001b[0;34m(self, Ax)\u001b[0m\n\u001b[1;32m     81\u001b[0m             \u001b[0mxList\u001b[0m \u001b[1;33m=\u001b[0m \u001b[0mself\u001b[0m\u001b[1;33m.\u001b[0m\u001b[0mfunction\u001b[0m\u001b[1;33m.\u001b[0m\u001b[0mFxWerte\u001b[0m\u001b[1;33m.\u001b[0m\u001b[0mtolist\u001b[0m\u001b[1;33m(\u001b[0m\u001b[1;33m)\u001b[0m\u001b[1;33m\u001b[0m\u001b[0m\n\u001b[1;32m     82\u001b[0m             \u001b[0mi\u001b[0m \u001b[1;33m=\u001b[0m \u001b[0mxList\u001b[0m\u001b[1;33m.\u001b[0m\u001b[0mindex\u001b[0m\u001b[1;33m(\u001b[0m\u001b[0mAx\u001b[0m\u001b[1;33m)\u001b[0m\u001b[1;33m\u001b[0m\u001b[0m\n\u001b[0;32m---> 83\u001b[0;31m             \u001b[0myList\u001b[0m \u001b[1;33m=\u001b[0m \u001b[0mself\u001b[0m\u001b[1;33m.\u001b[0m\u001b[0mfunction\u001b[0m\u001b[1;33m.\u001b[0m\u001b[0mFyWerte\u001b[0m\u001b[1;33m.\u001b[0m\u001b[0mtolist\u001b[0m\u001b[1;33m(\u001b[0m\u001b[1;33m)\u001b[0m\u001b[1;33m\u001b[0m\u001b[0m\n\u001b[0m\u001b[1;32m     84\u001b[0m             \u001b[0mout\u001b[0m \u001b[1;33m=\u001b[0m \u001b[0myList\u001b[0m\u001b[1;33m[\u001b[0m\u001b[0mi\u001b[0m\u001b[1;33m]\u001b[0m\u001b[1;33m\u001b[0m\u001b[0m\n\u001b[1;32m     85\u001b[0m         \u001b[1;32mexcept\u001b[0m \u001b[0mValueError\u001b[0m\u001b[1;33m:\u001b[0m\u001b[1;33m\u001b[0m\u001b[0m\n",
      "\u001b[0;31mAttributeError\u001b[0m: 'list' object has no attribute 'tolist'"
     ]
    }
   ],
   "source": [
    "dis_sig_1.getYAt(-10)"
   ]
  },
  {
   "cell_type": "code",
   "execution_count": null,
   "metadata": {
    "collapsed": true
   },
   "outputs": [],
   "source": []
  }
 ],
 "metadata": {
  "anaconda-cloud": {},
  "kernelspec": {
   "display_name": "Python [default]",
   "language": "python",
   "name": "python3"
  },
  "language_info": {
   "codemirror_mode": {
    "name": "ipython",
    "version": 3
   },
   "file_extension": ".py",
   "mimetype": "text/x-python",
   "name": "python",
   "nbconvert_exporter": "python",
   "pygments_lexer": "ipython3",
   "version": "3.5.2"
  },
  "widgets": {
   "state": {
    "36010ab6d1b749a8bfd4fe17664c668c": {
     "views": [
      {
       "cell_index": 2
      }
     ]
    },
    "f9e84ff35f63487893f0c4ec04c7c0a6": {
     "views": [
      {
       "cell_index": 5
      }
     ]
    }
   },
   "version": "1.2.0"
  }
 },
 "nbformat": 4,
 "nbformat_minor": 1
}
