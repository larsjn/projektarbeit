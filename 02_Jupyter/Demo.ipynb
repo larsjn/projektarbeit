{
 "cells": [
  {
   "cell_type": "code",
   "execution_count": 2,
   "metadata": {
    "collapsed": false
   },
   "outputs": [],
   "source": [
    "import lib.signalgen as sig\n",
    "import matplotlib.pyplot as plt\n",
    "import lib.create_function_widgets as fkt_wgt"
   ]
  },
  {
   "cell_type": "code",
   "execution_count": null,
   "metadata": {
    "collapsed": true
   },
   "outputs": [],
   "source": [
    "# Beispiel für eine Erzeugung kontinuierliches Signal"
   ]
  },
  {
   "cell_type": "code",
   "execution_count": 3,
   "metadata": {
    "collapsed": false
   },
   "outputs": [
    {
     "name": "stdout",
     "output_type": "stream",
     "text": [
      "('Hinweis: Leider ist es relativ kompliziert auch \"Punkt vor Strich\" zubeacheten', 'daher einfach Punktrechnungen in Klammern setzen')\n"
     ]
    }
   ],
   "source": [
    "con_signal = fkt_wgt.Class_Create_New_Function(False)# Eine classe für beide Signaltypen True wenn diskretes Signal erstellt wird\n",
    "con_signal.Create(None)"
   ]
  },
  {
   "cell_type": "code",
   "execution_count": 4,
   "metadata": {
    "collapsed": false
   },
   "outputs": [
    {
     "data": {
      "text/plain": [
       "<lib.signalgen.add at 0x17229ef1a20>"
      ]
     },
     "execution_count": 4,
     "metadata": {},
     "output_type": "execute_result"
    }
   ],
   "source": [
    "# Erstelltes Signal\n",
    "con_signal.FResultSignal"
   ]
  },
  {
   "cell_type": "code",
   "execution_count": null,
   "metadata": {
    "collapsed": true
   },
   "outputs": [],
   "source": [
    "# Beispiel für eine Erzeugung discret Signal"
   ]
  },
  {
   "cell_type": "code",
   "execution_count": 5,
   "metadata": {
    "collapsed": false
   },
   "outputs": [
    {
     "name": "stdout",
     "output_type": "stream",
     "text": [
      "('Hinweis: Leider ist es relativ kompliziert auch \"Punkt vor Strich\" zubeacheten', 'daher einfach Punktrechnungen in Klammern setzen')\n",
      "('Hinweis: Leider ist es relativ kompliziert auch \"Punkt vor Strich\" zubeacheten', 'daher einfach Punktrechnungen in Klammern setzen')\n"
     ]
    }
   ],
   "source": [
    "dis_signal=fkt_wgt.Class_Create_New_Function(True)# Eine classe für beide Signaltypen True wenn diskretes Signal erstellt wird\n",
    "dis_signal.Create(None)"
   ]
  },
  {
   "cell_type": "code",
   "execution_count": 6,
   "metadata": {
    "collapsed": false
   },
   "outputs": [
    {
     "data": {
      "text/plain": [
       "array([ -1.00000000e+01,  -9.90000000e+00,  -9.80000000e+00,\n",
       "        -9.70000000e+00,  -9.60000000e+00,  -9.50000000e+00,\n",
       "        -9.40000000e+00,  -9.30000000e+00,  -9.20000000e+00,\n",
       "        -9.10000000e+00,  -9.00000000e+00,  -8.90000000e+00,\n",
       "        -8.80000000e+00,  -8.70000000e+00,  -8.60000000e+00,\n",
       "        -8.50000000e+00,  -8.40000000e+00,  -8.30000000e+00,\n",
       "        -8.20000000e+00,  -8.10000000e+00,  -8.00000000e+00,\n",
       "        -7.90000000e+00,  -7.80000000e+00,  -7.70000000e+00,\n",
       "        -7.60000000e+00,  -7.50000000e+00,  -7.40000000e+00,\n",
       "        -7.30000000e+00,  -7.20000000e+00,  -7.10000000e+00,\n",
       "        -7.00000000e+00,  -6.90000000e+00,  -6.80000000e+00,\n",
       "        -6.70000000e+00,  -6.60000000e+00,  -6.50000000e+00,\n",
       "        -6.40000000e+00,  -6.30000000e+00,  -6.20000000e+00,\n",
       "        -6.10000000e+00,  -6.00000000e+00,  -5.90000000e+00,\n",
       "        -5.80000000e+00,  -5.70000000e+00,  -5.60000000e+00,\n",
       "        -5.50000000e+00,  -5.40000000e+00,  -5.30000000e+00,\n",
       "        -5.20000000e+00,  -5.10000000e+00,  -5.00000000e+00,\n",
       "        -4.90000000e+00,  -4.80000000e+00,  -4.70000000e+00,\n",
       "        -4.60000000e+00,  -4.50000000e+00,  -4.40000000e+00,\n",
       "        -4.30000000e+00,  -4.20000000e+00,  -4.10000000e+00,\n",
       "        -4.00000000e+00,  -3.90000000e+00,  -3.80000000e+00,\n",
       "        -3.70000000e+00,  -3.60000000e+00,  -3.50000000e+00,\n",
       "        -3.40000000e+00,  -3.30000000e+00,  -3.20000000e+00,\n",
       "        -3.10000000e+00,  -3.00000000e+00,  -2.90000000e+00,\n",
       "        -2.80000000e+00,  -2.70000000e+00,  -2.60000000e+00,\n",
       "        -2.50000000e+00,  -2.40000000e+00,  -2.30000000e+00,\n",
       "        -2.20000000e+00,  -2.10000000e+00,  -2.00000000e+00,\n",
       "        -1.90000000e+00,  -1.80000000e+00,  -1.70000000e+00,\n",
       "        -1.60000000e+00,  -1.50000000e+00,  -1.40000000e+00,\n",
       "        -1.30000000e+00,  -1.20000000e+00,  -1.10000000e+00,\n",
       "        -1.00000000e+00,  -9.00000000e-01,  -8.00000000e-01,\n",
       "        -7.00000000e-01,  -6.00000000e-01,  -5.00000000e-01,\n",
       "        -4.00000000e-01,  -3.00000000e-01,  -2.00000000e-01,\n",
       "        -1.00000000e-01,  -3.55271368e-14,   1.00000000e-01,\n",
       "         2.00000000e-01,   3.00000000e-01,   4.00000000e-01,\n",
       "         5.00000000e-01,   6.00000000e-01,   7.00000000e-01,\n",
       "         8.00000000e-01,   9.00000000e-01,   1.00000000e+00,\n",
       "         1.10000000e+00,   1.20000000e+00,   1.30000000e+00,\n",
       "         1.40000000e+00,   1.50000000e+00,   1.60000000e+00,\n",
       "         1.70000000e+00,   1.80000000e+00,   1.90000000e+00,\n",
       "         2.00000000e+00,   2.10000000e+00,   2.20000000e+00,\n",
       "         2.30000000e+00,   2.40000000e+00,   2.50000000e+00,\n",
       "         2.60000000e+00,   2.70000000e+00,   2.80000000e+00,\n",
       "         2.90000000e+00,   3.00000000e+00,   3.10000000e+00,\n",
       "         3.20000000e+00,   3.30000000e+00,   3.40000000e+00,\n",
       "         3.50000000e+00,   3.60000000e+00,   3.70000000e+00,\n",
       "         3.80000000e+00,   3.90000000e+00,   4.00000000e+00,\n",
       "         4.10000000e+00,   4.20000000e+00,   4.30000000e+00,\n",
       "         4.40000000e+00,   4.50000000e+00,   4.60000000e+00,\n",
       "         4.70000000e+00,   4.80000000e+00,   4.90000000e+00,\n",
       "         5.00000000e+00,   5.10000000e+00,   5.20000000e+00,\n",
       "         5.30000000e+00,   5.40000000e+00,   5.50000000e+00,\n",
       "         5.60000000e+00,   5.70000000e+00,   5.80000000e+00,\n",
       "         5.90000000e+00,   6.00000000e+00,   6.10000000e+00,\n",
       "         6.20000000e+00,   6.30000000e+00,   6.40000000e+00,\n",
       "         6.50000000e+00,   6.60000000e+00,   6.70000000e+00,\n",
       "         6.80000000e+00,   6.90000000e+00,   7.00000000e+00,\n",
       "         7.10000000e+00,   7.20000000e+00,   7.30000000e+00,\n",
       "         7.40000000e+00,   7.50000000e+00,   7.60000000e+00,\n",
       "         7.70000000e+00,   7.80000000e+00,   7.90000000e+00,\n",
       "         8.00000000e+00,   8.10000000e+00,   8.20000000e+00,\n",
       "         8.30000000e+00,   8.40000000e+00,   8.50000000e+00,\n",
       "         8.60000000e+00,   8.70000000e+00,   8.80000000e+00,\n",
       "         8.90000000e+00,   9.00000000e+00,   9.10000000e+00,\n",
       "         9.20000000e+00,   9.30000000e+00,   9.40000000e+00,\n",
       "         9.50000000e+00,   9.60000000e+00,   9.70000000e+00,\n",
       "         9.80000000e+00,   9.90000000e+00,   1.00000000e+01])"
      ]
     },
     "execution_count": 6,
     "metadata": {},
     "output_type": "execute_result"
    }
   ],
   "source": [
    "# X-Werte des erstellten Signals\n",
    "dis_signal.FxWerte"
   ]
  },
  {
   "cell_type": "code",
   "execution_count": 7,
   "metadata": {
    "collapsed": false
   },
   "outputs": [
    {
     "data": {
      "text/plain": [
       "array([ -8.45597889,  -8.44246411,  -8.43352087,  -8.42823937,\n",
       "        -8.42567322,  -8.42484888,  -8.42477543,  -8.42445442,\n",
       "        -8.42288991,  -8.41909836,  -8.41211849,  -8.40102086,\n",
       "        -8.38491719,  -8.36296923,  -8.3343971 ,  -8.29848711,\n",
       "        -8.25459891,  -8.20217183,  -8.14073056,  -8.06988981,\n",
       "        -7.98935825,  -7.89894134,  -7.79854335,  -7.68816823,\n",
       "        -7.56791967,  -7.43799998,  -7.2987081 ,  -7.15043662,\n",
       "        -6.99366786,  -6.82896904,  -6.6569866 ,  -6.47843976,\n",
       "        -6.29411335,  -6.10484992,  -5.91154136,  -5.71511999,\n",
       "        -5.5165492 ,  -5.3168139 ,  -5.1169106 ,  -4.9178375 ,\n",
       "        -4.7205845 ,  -4.52612334,  -4.33539782,  -4.14931446,\n",
       "        -3.96873336,  -3.79445967,  -3.62723551,  -3.46773256,\n",
       "        -3.31654534,  -3.17418532,  -3.04107573,  -2.91754739,\n",
       "        -2.80383539,  -2.70007674,  -2.606309  ,  -2.52246988,\n",
       "        -2.44839793,  -2.38383406,  -2.32842423,  -2.28172289,\n",
       "        -2.2431975 ,  -2.21223384,  -2.18814211,  -2.17016386,\n",
       "        -2.15747956,  -2.14921677,  -2.1444589 ,  -2.14225431,\n",
       "        -2.14162586,  -2.14158066,  -2.14112001,  -2.13924933,\n",
       "        -2.13498815,  -2.12737988,  -2.11550137,  -2.09847214,\n",
       "        -2.07546318,  -2.04570521,  -2.0084964 ,  -1.96320937,\n",
       "        -1.90929743,  -1.84630009,  -1.77384763,  -1.69166481,\n",
       "        -1.5995736 ,  -1.49749499,  -1.38544973,  -1.26355819,\n",
       "        -1.13203909,  -0.99120736,  -0.84147098,  -0.68332691,\n",
       "        -0.51735609,  -0.34421769,  -0.16464247,   0.02057446,\n",
       "         0.21058166,   0.40447979,   0.60133067,   0.80016658,\n",
       "         1.        ,   1.19983342,   1.39866933,   1.59552021,\n",
       "         1.78941834,   1.97942554,   2.16464247,   2.34421769,\n",
       "         2.51735609,   2.68332691,   2.84147098,   2.99120736,\n",
       "         3.13203909,   3.26355819,   3.38544973,   3.49749499,\n",
       "         3.5995736 ,   3.69166481,   3.77384763,   3.84630009,\n",
       "         3.90929743,   3.96320937,   4.0084964 ,   4.04570521,\n",
       "         4.07546318,   4.09847214,   4.11550137,   4.12737988,\n",
       "         4.13498815,   4.13924933,   4.14112001,   4.14158066,\n",
       "         4.14162586,   4.14225431,   4.1444589 ,   4.14921677,\n",
       "         4.15747956,   4.17016386,   4.18814211,   4.21223384,\n",
       "         4.2431975 ,   4.28172289,   4.32842423,   4.38383406,\n",
       "         4.44839793,   4.52246988,   4.606309  ,   4.70007674,\n",
       "         4.80383539,   4.91754739,   5.04107573,   5.17418532,\n",
       "         5.31654534,   5.46773256,   5.62723551,   5.79445967,\n",
       "         5.96873336,   6.14931446,   6.33539782,   6.52612334,\n",
       "         6.7205845 ,   6.9178375 ,   7.1169106 ,   7.3168139 ,\n",
       "         7.5165492 ,   7.71511999,   7.91154136,   8.10484992,\n",
       "         8.29411335,   8.47843976,   8.6569866 ,   8.82896904,\n",
       "         8.99366786,   9.15043662,   9.2987081 ,   9.43799998,\n",
       "         9.56791967,   9.68816823,   9.79854335,   9.89894134,\n",
       "         9.98935825,  10.06988981,  10.14073056,  10.20217183,\n",
       "        10.25459891,  10.29848711,  10.3343971 ,  10.36296923,\n",
       "        10.38491719,  10.40102086,  10.41211849,  10.41909836,\n",
       "        10.42288991,  10.42445442,  10.42477543,  10.42484888,\n",
       "        10.42567322,  10.42823937,  10.43352087,  10.44246411,  10.45597889])"
      ]
     },
     "execution_count": 7,
     "metadata": {},
     "output_type": "execute_result"
    }
   ],
   "source": [
    "# Y-Werte des erstellten Signals\n",
    "dis_signal.FyWerte"
   ]
  },
  {
   "cell_type": "code",
   "execution_count": 19,
   "metadata": {
    "collapsed": true
   },
   "outputs": [],
   "source": [
    "# signal1 = sig.create()\n",
    "# signal2 = sig.create()"
   ]
  },
  {
   "cell_type": "code",
   "execution_count": 20,
   "metadata": {
    "collapsed": false
   },
   "outputs": [
    {
     "data": {
      "image/png": "[encoded data removed]",
      "text/plain": [
       "<matplotlib.figure.Figure at 0x20eeb9896d8>"
      ]
     },
     "metadata": {},
     "output_type": "display_data"
    }
   ],
   "source": [
    "\n",
    "\n",
    "# x = signal1.getXList()\n",
    "# y = signal1.getYList()\n",
    "# plt.plot(x,y)\n",
    "# plt.show()\n"
   ]
  }
 ],
 "metadata": {
  "anaconda-cloud": {},
  "kernelspec": {
   "display_name": "Python [default]",
   "language": "python",
   "name": "python3"
  },
  "language_info": {
   "codemirror_mode": {
    "name": "ipython",
    "version": 3
   },
   "file_extension": ".py",
   "mimetype": "text/x-python",
   "name": "python",
   "nbconvert_exporter": "python",
   "pygments_lexer": "ipython3",
   "version": "3.5.2"
  },
  "widgets": {
   "state": {
    "2219e83b3aff45e993dd9a56a766131b": {
     "views": [
      {
       "cell_index": 1
      }
     ]
    },
    "ea059b872ad34b2eb5906635e0bd40df": {
     "views": [
      {
       "cell_index": 3
      }
     ]
    }
   },
   "version": "1.2.0"
  }
 },
 "nbformat": 4,
 "nbformat_minor": 1
}
