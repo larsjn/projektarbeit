{
 "cells": [
  {
   "cell_type": "code",
   "execution_count": 5,
   "metadata": {
    "collapsed": false
   },
   "outputs": [],
   "source": [
    "import lib.pysigpro as sig\n",
    "Z1 = sig.create(\"complex\")\n",
    "S1 = sig.create(\"continuous\")\n",
    "S2 = sig.create(\"discrete\")\n"
   ]
  },
  {
   "cell_type": "code",
   "execution_count": 6,
   "metadata": {
    "collapsed": false
   },
   "outputs": [],
   "source": [
    "Z1.plot()"
   ]
  },
  {
   "cell_type": "code",
   "execution_count": 3,
   "metadata": {
    "collapsed": false
   },
   "outputs": [],
   "source": [
    "S1.plot()"
   ]
  },
  {
   "cell_type": "code",
   "execution_count": 4,
   "metadata": {
    "collapsed": false
   },
   "outputs": [
    {
     "ename": "AttributeError",
     "evalue": "'NoneType' object has no attribute '_handle_displayed'",
     "output_type": "error",
     "traceback": [
      "\u001b[0;31m---------------------------------------------------------------------------\u001b[0m",
      "\u001b[0;31mAttributeError\u001b[0m                            Traceback (most recent call last)",
      "\u001b[0;32mC:\\Program Files\\Anaconda3\\lib\\site-packages\\ipywidgets\\widgets\\widget_box.py\u001b[0m in \u001b[0;36m_fire_children_displayed\u001b[0;34m(self)\u001b[0m\n\u001b[1;32m     47\u001b[0m     \u001b[1;32mdef\u001b[0m \u001b[0m_fire_children_displayed\u001b[0m\u001b[1;33m(\u001b[0m\u001b[0mself\u001b[0m\u001b[1;33m)\u001b[0m\u001b[1;33m:\u001b[0m\u001b[1;33m\u001b[0m\u001b[0m\n\u001b[1;32m     48\u001b[0m         \u001b[1;32mfor\u001b[0m \u001b[0mchild\u001b[0m \u001b[1;32min\u001b[0m \u001b[0mself\u001b[0m\u001b[1;33m.\u001b[0m\u001b[0mchildren\u001b[0m\u001b[1;33m:\u001b[0m\u001b[1;33m\u001b[0m\u001b[0m\n\u001b[0;32m---> 49\u001b[0;31m             \u001b[0mchild\u001b[0m\u001b[1;33m.\u001b[0m\u001b[0m_handle_displayed\u001b[0m\u001b[1;33m(\u001b[0m\u001b[1;33m)\u001b[0m\u001b[1;33m\u001b[0m\u001b[0m\n\u001b[0m\u001b[1;32m     50\u001b[0m \u001b[1;33m\u001b[0m\u001b[0m\n\u001b[1;32m     51\u001b[0m \u001b[1;33m\u001b[0m\u001b[0m\n",
      "\u001b[0;31mAttributeError\u001b[0m: 'NoneType' object has no attribute '_handle_displayed'"
     ]
    }
   ],
   "source": [
    "S2.plot()"
   ]
  },
  {
   "cell_type": "code",
   "execution_count": null,
   "metadata": {
    "collapsed": true
   },
   "outputs": [],
   "source": []
  }
 ],
 "metadata": {
  "anaconda-cloud": {},
  "kernelspec": {
   "display_name": "Python [default]",
   "language": "python",
   "name": "python3"
  },
  "language_info": {
   "codemirror_mode": {
    "name": "ipython",
    "version": 3
   },
   "file_extension": ".py",
   "mimetype": "text/x-python",
   "name": "python",
   "nbconvert_exporter": "python",
   "pygments_lexer": "ipython3",
   "version": "3.5.2"
  },
  "widgets": {
   "state": {
    "41d9860d6fa147eab4aade7e73bfde7f": {
     "views": [
      {
       "cell_index": 0
      }
     ]
    },
    "4b333b7b41754cae853390a6145a7078": {
     "views": [
      {
       "cell_index": 0
      }
     ]
    },
    "4f2ad05fa0914cff917c2d4e74fec3af": {
     "views": [
      {
       "cell_index": 0
      }
     ]
    },
    "6d45bc4227354189875f087f70dd9dc4": {
     "views": [
      {
       "cell_index": 0
      }
     ]
    },
    "b94ebea82a864b50beffb27523961616": {
     "views": [
      {
       "cell_index": 0
      }
     ]
    },
    "c804e4e8fc49410fa64fa970d4c27ad6": {
     "views": [
      {
       "cell_index": 1
      }
     ]
    },
    "cbefd9a19c374cb98931fda565426774": {
     "views": [
      {
       "cell_index": 0
      }
     ]
    },
    "d30a69f166634f34a5c532f236345399": {
     "views": [
      {
       "cell_index": 0
      }
     ]
    },
    "db123523847147979a7208e50f8de079": {
     "views": [
      {
       "cell_index": 0
      }
     ]
    },
    "e2acf6a6824b44f0992f1e4bb9192ea5": {
     "views": [
      {
       "cell_index": 0
      }
     ]
    }
   },
   "version": "1.2.0"
  }
 },
 "nbformat": 4,
 "nbformat_minor": 1
}
