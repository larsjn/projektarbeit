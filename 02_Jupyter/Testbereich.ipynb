{
 "cells": [
  {
   "cell_type": "code",
   "execution_count": null,
   "metadata": {
    "collapsed": false
   },
   "outputs": [],
   "source": [
    "import numpy as np\n",
    "data = np.loadtxt(\"Sinus.csv\")\n"
   ]
  },
  {
   "cell_type": "code",
   "execution_count": null,
   "metadata": {
    "collapsed": false
   },
   "outputs": [],
   "source": [
    "data\n"
   ]
  },
  {
   "cell_type": "code",
   "execution_count": null,
   "metadata": {
    "collapsed": false
   },
   "outputs": [],
   "source": [
    "import csv\n",
    "ifile  = open('Sinus.csv')\n",
    "read = csv.reader(ifile)\n",
    "xList = []\n",
    "yList = []\n",
    "for row in read :\n",
    "    xList = xList + [float(row[0])]\n",
    "    yList = yList + [float(row[1])]"
   ]
  },
  {
   "cell_type": "code",
   "execution_count": null,
   "metadata": {
    "collapsed": false
   },
   "outputs": [],
   "source": [
    "xList"
   ]
  },
  {
   "cell_type": "code",
   "execution_count": null,
   "metadata": {
    "collapsed": false
   },
   "outputs": [],
   "source": [
    "float('5.879542597180472e-15')"
   ]
  },
  {
   "cell_type": "code",
   "execution_count": null,
   "metadata": {
    "collapsed": true
   },
   "outputs": [],
   "source": [
    "import os\n",
    "\n",
    "import ipywidgets as widgets\n",
    "\n",
    "\n",
    "class FileBrowser(object):\n",
    "    def __init__(self):\n",
    "        self.path = os.getcwd()\n",
    "        self._update_files()\n",
    "        \n",
    "    def _update_files(self):\n",
    "        self.files = list()\n",
    "        self.dirs = list()\n",
    "        if(os.path.isdir(self.path)):\n",
    "            for f in os.listdir(self.path):\n",
    "                ff = self.path + \"/\" + f\n",
    "                if os.path.isdir(ff):\n",
    "                    self.dirs.append(f)\n",
    "                else:\n",
    "                    self.files.append(f)\n",
    "        \n",
    "    def widget(self):\n",
    "        box = widgets.VBox()\n",
    "        self._update(box)\n",
    "        return box\n",
    "    \n",
    "    def _update(self, box):\n",
    "        \n",
    "        def on_click(b):\n",
    "            if b.description == '..':\n",
    "                self.path = os.path.split(self.path)[0]\n",
    "            else:\n",
    "                self.path = self.path + \"/\" + b.description\n",
    "            self._update_files()\n",
    "            self._update(box)\n",
    "        \n",
    "        buttons = []\n",
    "        if self.files:\n",
    "            button = widgets.Button(description='..', background_color='#d0d0ff')\n",
    "            button.on_click(on_click)\n",
    "            buttons.append(button)\n",
    "        for f in self.dirs:\n",
    "            button = widgets.Button(description=f, background_color='#d0d0ff')\n",
    "            button.on_click(on_click)\n",
    "            buttons.append(button)\n",
    "        for f in self.files:\n",
    "            button = widgets.Button(description=f)\n",
    "            button.on_click(on_click)\n",
    "            buttons.append(button)\n",
    "        box.children = tuple([widgets.HTML(\"<h2>%s</h2>\" % (self.path,))] + buttons)"
   ]
  },
  {
   "cell_type": "code",
   "execution_count": null,
   "metadata": {
    "collapsed": false
   },
   "outputs": [],
   "source": [
    "a=FileBrowser()\n",
    "\n"
   ]
  },
  {
   "cell_type": "code",
   "execution_count": null,
   "metadata": {
    "collapsed": false
   },
   "outputs": [],
   "source": [
    "from IPython.display import display\n",
    "b=a.widget\n",
    "\n",
    "display(b)"
   ]
  },
  {
   "cell_type": "code",
   "execution_count": null,
   "metadata": {
    "collapsed": true
   },
   "outputs": [],
   "source": [
    "def openfile_dialog():\n",
    "    from PyQt4 import QtGui\n",
    "    app = QtGui.QApplication([dir])\n",
    "    fname = QtGui.QFileDialog.getOpenFileName(None, \"Select a file...\", '.', filter=\"All files (*)\")\n",
    "    return str(fname)"
   ]
  },
  {
   "cell_type": "code",
   "execution_count": null,
   "metadata": {
    "collapsed": false
   },
   "outputs": [],
   "source": [
    "openfile_dialog()"
   ]
  },
  {
   "cell_type": "code",
   "execution_count": 2,
   "metadata": {
    "collapsed": false
   },
   "outputs": [],
   "source": [
    "import lib.pysigpro as sig"
   ]
  },
  {
   "cell_type": "code",
   "execution_count": 3,
   "metadata": {
    "collapsed": false
   },
   "outputs": [],
   "source": [
    "a=sig.List()"
   ]
  },
  {
   "cell_type": "code",
   "execution_count": 4,
   "metadata": {
    "collapsed": false
   },
   "outputs": [],
   "source": [
    "b=a.getList(123)"
   ]
  },
  {
   "cell_type": "code",
   "execution_count": 5,
   "metadata": {
    "collapsed": false
   },
   "outputs": [
    {
     "data": {
      "image/png": "[encoded data removed]",
      "text/plain": [
       "<matplotlib.figure.Figure at 0x14c984f3d68>"
      ]
     },
     "metadata": {},
     "output_type": "display_data"
    },
    {
     "data": {
      "image/png": "[encoded data removed]",
      "text/plain": [
       "<matplotlib.figure.Figure at 0x14c9a014358>"
      ]
     },
     "metadata": {},
     "output_type": "display_data"
    }
   ],
   "source": [
    "a.plot()"
   ]
  },
  {
   "cell_type": "code",
   "execution_count": 9,
   "metadata": {
    "collapsed": false
   },
   "outputs": [
    {
     "data": {
      "text/plain": [
       "[0.0,\n",
       " 0.1,\n",
       " 0.2,\n",
       " 0.30000000000000004,\n",
       " 0.4,\n",
       " 0.5,\n",
       " 0.6000000000000001,\n",
       " 0.7000000000000001,\n",
       " 0.8,\n",
       " 0.9,\n",
       " 1.0,\n",
       " 1.1,\n",
       " 1.2000000000000002,\n",
       " 1.3,\n",
       " 1.4000000000000001,\n",
       " 1.5,\n",
       " 1.6,\n",
       " 1.7000000000000002,\n",
       " 1.8,\n",
       " 1.9000000000000001,\n",
       " 2.0,\n",
       " 2.1,\n",
       " 2.2,\n",
       " 2.3000000000000003,\n",
       " 2.4000000000000004,\n",
       " 2.5,\n",
       " 2.6,\n",
       " 2.7,\n",
       " 2.8000000000000003,\n",
       " 2.9000000000000004,\n",
       " 3.0,\n",
       " 3.1,\n",
       " 3.2,\n",
       " 3.3000000000000003,\n",
       " 3.4000000000000004,\n",
       " 3.5,\n",
       " 3.6,\n",
       " 3.7,\n",
       " 3.8000000000000003,\n",
       " 3.9000000000000004,\n",
       " 4.0,\n",
       " 4.1000000000000005,\n",
       " 4.2,\n",
       " 4.3,\n",
       " 4.4,\n",
       " 4.5,\n",
       " 4.6000000000000005,\n",
       " 4.7,\n",
       " 4.800000000000001,\n",
       " 4.9,\n",
       " 5.0,\n",
       " 5.1000000000000005,\n",
       " 5.2,\n",
       " 5.300000000000001,\n",
       " 5.4,\n",
       " 5.5,\n",
       " 5.6000000000000005,\n",
       " 5.7,\n",
       " 5.800000000000001,\n",
       " 5.9,\n",
       " 6.0,\n",
       " 6.1000000000000005,\n",
       " 6.2,\n",
       " 6.300000000000001,\n",
       " 6.4,\n",
       " 6.5,\n",
       " 6.6000000000000005,\n",
       " 6.7,\n",
       " 6.800000000000001,\n",
       " 6.9,\n",
       " 7.0,\n",
       " 7.1000000000000005,\n",
       " 7.2,\n",
       " 7.300000000000001,\n",
       " 7.4,\n",
       " 7.5,\n",
       " 7.6000000000000005,\n",
       " 7.7,\n",
       " 7.800000000000001,\n",
       " 7.9,\n",
       " 8.0,\n",
       " 8.1,\n",
       " 8.200000000000001,\n",
       " 8.3,\n",
       " 8.4,\n",
       " 8.5,\n",
       " 8.6,\n",
       " 8.700000000000001,\n",
       " 8.8,\n",
       " 8.9,\n",
       " 9.0,\n",
       " 9.1,\n",
       " 9.200000000000001,\n",
       " 9.3,\n",
       " 9.4,\n",
       " 9.5,\n",
       " 9.600000000000001,\n",
       " 9.700000000000001,\n",
       " 9.8,\n",
       " 9.9,\n",
       " 10.0]"
      ]
     },
     "execution_count": 9,
     "metadata": {},
     "output_type": "execute_result"
    }
   ],
   "source": [
    "b[1][0]"
   ]
  },
  {
   "cell_type": "code",
   "execution_count": null,
   "metadata": {
    "collapsed": true
   },
   "outputs": [],
   "source": []
  }
 ],
 "metadata": {
  "anaconda-cloud": {},
  "kernelspec": {
   "display_name": "Python [default]",
   "language": "python",
   "name": "python3"
  },
  "language_info": {
   "codemirror_mode": {
    "name": "ipython",
    "version": 3
   },
   "file_extension": ".py",
   "mimetype": "text/x-python",
   "name": "python",
   "nbconvert_exporter": "python",
   "pygments_lexer": "ipython3",
   "version": "3.5.2"
  },
  "widgets": {
   "state": {
    "ef47c8981af1493e9c9b82ffb3142366": {
     "views": [
      {
       "cell_index": 13
      }
     ]
    }
   },
   "version": "1.2.0"
  }
 },
 "nbformat": 4,
 "nbformat_minor": 1
}
