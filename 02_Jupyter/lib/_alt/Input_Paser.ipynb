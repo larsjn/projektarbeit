{
 "cells": [
  {
   "cell_type": "code",
   "execution_count": 34,
   "metadata": {
    "collapsed": true
   },
   "outputs": [],
   "source": [
    "from IPython.display import display\n",
    "from IPython.display import clear_output\n",
    "\n",
    "from ipywidgets import Accordion\n",
    "from ipywidgets import Layout\n",
    "from ipywidgets import Text\n"
   ]
  },
  {
   "cell_type": "code",
   "execution_count": 33,
   "metadata": {
    "collapsed": true
   },
   "outputs": [],
   "source": [
    "class Class_Input_Paser(object):\n",
    "    def __init__(self):\n",
    "        self.RS_Titel = 'Funktionseingabe'\n",
    "       \n",
    "        self.F_wdg_Layout = Layout(display='flex',flex_flow='row',justify_content='center')\n",
    "        self.F_wdg_Box_Layout = Layout(display='flex',flex_flow='column',align_items='stretch',width='100%')\n",
    "        \n",
    "        self.Ftxt_Input = Text(layout=self.F_wdg_Layout,visible = True) \n",
    "        self.FInput = None\n",
    "        self.FAccItems = [self.Ftxt_Input]\n",
    "        self.FAcc =  Accordion(children=self.FAccItems) \n",
    "        \n",
    "        \n",
    "        self.create()\n",
    "    \n",
    "    \n",
    "    def txt_Event_Eingabe (self,ADummy):\n",
    "        self.FInput = self.Ftxt_Input.value       \n",
    "        \n",
    "        \n",
    "    \n",
    "    def create(self):\n",
    "        self.Ftxt_Input.observe(self.txt_Event_Eingabe)\n",
    "        \n",
    "        self.FAcc.set_title(0, self.RS_Titel)\n",
    "        display(self.FAcc)  "
   ]
  },
  {
   "cell_type": "code",
   "execution_count": null,
   "metadata": {
    "collapsed": true
   },
   "outputs": [],
   "source": []
  }
 ],
 "metadata": {
  "anaconda-cloud": {},
  "kernelspec": {
   "display_name": "Python [default]",
   "language": "python",
   "name": "python3"
  },
  "language_info": {
   "codemirror_mode": {
    "name": "ipython",
    "version": 3
   },
   "file_extension": ".py",
   "mimetype": "text/x-python",
   "name": "python",
   "nbconvert_exporter": "python",
   "pygments_lexer": "ipython3",
   "version": "3.5.2"
  }
 },
 "nbformat": 4,
 "nbformat_minor": 1
}
