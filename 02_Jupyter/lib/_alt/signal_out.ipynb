{
 "cells": [
  {
   "cell_type": "code",
   "execution_count": null,
   "metadata": {
    "collapsed": true
   },
   "outputs": [],
   "source": [
    "import numpy as np\n",
    "import matplotlib as plt\n",
    "import lib.signalgen as sig\n",
    "\n",
    "\n",
    "class diagram:\n",
    "    def __init__(self):\n",
    "        pass\n",
    "\n",
    "    def setSignal(self, input):\n",
    "        self.signal = input\n",
    "\n",
    "    def plot(self):\n",
    "        // Input-Signale plotten\n",
    "        pass\n",
    "\n",
    "class writeToFile:\n",
    "    def __init__(self,AIsDiscret): # etwa so kannst gern wieder ändern \n",
    "        self.RS_Discret = 'Discret'\n",
    "        self.RS_Typ = 'Signal_Typ'\n",
    "        self.RS_x_Values = 'X-Values'\n",
    "        self.RS_y_Values = 'Y-Values'\n",
    "        self.RS_Frequency = 'Frequency'\n",
    "        self.RS_Sample_Frequency ='Sample_frequency'\n",
    "        self.RS_default_file_name ='Signals'\n",
    "        self.RS_default_file_path =''    \n",
    "        \n",
    "        self.FIsDiscret = AIsDiscret\n",
    "        self.FFile = None\n",
    "        \n",
    "    def open_file(self):\n",
    "        self.FFile = open(self.RS_default_file_path+self.RS_default_file_name, 'w')\n",
    "        \n"
   ]
  }
 ],
 "metadata": {
  "anaconda-cloud": {},
  "kernelspec": {
   "display_name": "Python [default]",
   "language": "python",
   "name": "python3"
  },
  "language_info": {
   "codemirror_mode": {
    "name": "ipython",
    "version": 3
   },
   "file_extension": ".py",
   "mimetype": "text/x-python",
   "name": "python",
   "nbconvert_exporter": "python",
   "pygments_lexer": "ipython3",
   "version": "3.5.2"
  }
 },
 "nbformat": 4,
 "nbformat_minor": 1
}
