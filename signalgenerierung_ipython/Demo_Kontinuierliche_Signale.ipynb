{
 "cells": [
  {
   "cell_type": "code",
   "execution_count": 1,
   "metadata": {
    "collapsed": true
   },
   "outputs": [],
   "source": [
    "import lib.pysigpro as sig"
   ]
  },
  {
   "cell_type": "markdown",
   "metadata": {},
   "source": [
    "# Kontinuierliche Signale"
   ]
  },
  {
   "cell_type": "markdown",
   "metadata": {},
   "source": [
    "###  Eingabe über Eingabemaske\n"
   ]
  },
  {
   "cell_type": "code",
   "execution_count": 2,
   "metadata": {
    "collapsed": false
   },
   "outputs": [
    {
     "name": "stdout",
     "output_type": "stream",
     "text": [
      "Symbol für X-Werte: t  , Symbol für PI: pi , Eingaben werden automatisch übernommen\n"
     ]
    }
   ],
   "source": [
    "S1 = sig.create(\"continuous\")"
   ]
  },
  {
   "cell_type": "code",
   "execution_count": 3,
   "metadata": {
    "collapsed": false
   },
   "outputs": [
    {
     "name": "stdout",
     "output_type": "stream",
     "text": [
      "Symbol für X-Werte: t  , Symbol für PI: pi , Eingaben werden automatisch übernommen\n"
     ]
    }
   ],
   "source": [
    "S2 = sig.create(\"continuous\")"
   ]
  },
  {
   "cell_type": "markdown",
   "metadata": {},
   "source": [
    "### Eingabe über Funktion"
   ]
  },
  {
   "cell_type": "code",
   "execution_count": 4,
   "metadata": {
    "collapsed": false
   },
   "outputs": [],
   "source": [
    "S11 = sig.sine(amplitude=1,frequency=1)\n",
    "S22 = sig.cosine(amplitude=1,frequency=1)\n",
    "S33 = sig.const(value=1)\n",
    "S44 = sig.square(amplitude=1,dutyCycle=0.5,frequency=1)\n"
   ]
  },
  {
   "cell_type": "markdown",
   "metadata": {},
   "source": [
    "## Addition"
   ]
  },
  {
   "cell_type": "code",
   "execution_count": 5,
   "metadata": {
    "collapsed": false
   },
   "outputs": [],
   "source": [
    "S3=sig.add(S1,S2)\n",
    "S3=S1+S2\n",
    "\n",
    "S3.plot()"
   ]
  },
  {
   "cell_type": "markdown",
   "metadata": {},
   "source": [
    "## Subtraktion"
   ]
  },
  {
   "cell_type": "code",
   "execution_count": 6,
   "metadata": {
    "collapsed": false,
    "scrolled": true
   },
   "outputs": [],
   "source": [
    "S3=sig.sub(S2,S1)\n",
    "S3=S1-S2\n",
    "S3.plot()"
   ]
  },
  {
   "cell_type": "markdown",
   "metadata": {},
   "source": [
    "## Multiplikation"
   ]
  },
  {
   "cell_type": "code",
   "execution_count": 7,
   "metadata": {
    "collapsed": false
   },
   "outputs": [],
   "source": [
    "S3=sig.mul(S1,S2)\n",
    "S3=S1*S2\n",
    "S3.plot()"
   ]
  },
  {
   "cell_type": "markdown",
   "metadata": {},
   "source": [
    "## Division"
   ]
  },
  {
   "cell_type": "code",
   "execution_count": 8,
   "metadata": {
    "collapsed": false,
    "scrolled": true
   },
   "outputs": [],
   "source": [
    "S3=sig.div(S1,S2)\n",
    "S3=S1/S2\n",
    "S3.plot()"
   ]
  },
  {
   "cell_type": "markdown",
   "metadata": {},
   "source": [
    "## Faltung"
   ]
  },
  {
   "cell_type": "code",
   "execution_count": 9,
   "metadata": {
    "collapsed": false
   },
   "outputs": [],
   "source": [
    "S3=sig.convolve(S1,S2)\n",
    "S3.plot()"
   ]
  }
 ],
 "metadata": {
  "anaconda-cloud": {},
  "kernelspec": {
   "display_name": "Python [default]",
   "language": "python",
   "name": "python3"
  },
  "language_info": {
   "codemirror_mode": {
    "name": "ipython",
    "version": 3
   },
   "file_extension": ".py",
   "mimetype": "text/x-python",
   "name": "python",
   "nbconvert_exporter": "python",
   "pygments_lexer": "ipython3",
   "version": "3.5.2"
  },
  "widgets": {
   "state": {
    "2045a7cff7d742179c0c396799bae72d": {
     "views": [
      {
       "cell_index": 3
      }
     ]
    },
    "28227f50e61c4ba3817da879fd8ce4b2": {
     "views": [
      {
       "cell_index": 8
      }
     ]
    },
    "51cd38a2225047d7952fb133061d776b": {
     "views": [
      {
       "cell_index": 16
      }
     ]
    },
    "776f81500aef406082a6d45140d1bc00": {
     "views": [
      {
       "cell_index": 4
      }
     ]
    },
    "a562567987824b0dae81f4304c0aae97": {
     "views": [
      {
       "cell_index": 10
      }
     ]
    },
    "e35971da41c3425ab64f0c4344ea8ecc": {
     "views": [
      {
       "cell_index": 12
      }
     ]
    },
    "fb0aa523e07043ad8eef2e96e92ca9b3": {
     "views": [
      {
       "cell_index": 14
      }
     ]
    }
   },
   "version": "1.2.0"
  }
 },
 "nbformat": 4,
 "nbformat_minor": 1
}
