{
 "cells": [
  {
   "cell_type": "code",
   "execution_count": null,
   "metadata": {
    "collapsed": true
   },
   "outputs": [],
   "source": [
    "import numpy as np\n",
    "import matplotlib as plt\n",
    "import lib.signalgen as sig\n",
    "\n",
    "\n",
    "class diagram:\n",
    "    def __init__(self):\n",
    "        pass\n",
    "\n",
    "    def setSignal(self, input):\n",
    "        self.signal = input\n",
    "\n",
    "    def plot(self):\n",
    "        // Input-Signale plotten\n",
    "        pass\n",
    "\n",
    "class writeToFile:\n",
    "    def __init__(self):\n",
    "        pass\n"
   ]
  }
 ],
 "metadata": {
  "anaconda-cloud": {},
  "kernelspec": {
   "display_name": "Python [default]",
   "language": "python",
   "name": "python3"
  },
  "language_info": {
   "codemirror_mode": {
    "name": "ipython",
    "version": 3
   },
   "file_extension": ".py",
   "mimetype": "text/x-python",
   "name": "python",
   "nbconvert_exporter": "python",
   "pygments_lexer": "ipython3",
   "version": "3.5.2"
  }
 },
 "nbformat": 4,
 "nbformat_minor": 1
}
